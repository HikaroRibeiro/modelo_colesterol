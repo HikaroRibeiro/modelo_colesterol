{
 "cells": [
  {
   "cell_type": "code",
   "execution_count": 2,
   "id": "15af318d",
   "metadata": {},
   "outputs": [],
   "source": [
    "# Instalar - pipenv install scikit-learn scipy pandas matplotlib seaborn ipykernel gradio\n",
    "\n",
    "import pandas as pd\n",
    "import seaborn as sns\n",
    "import matplotlib.pyplot as plt"
   ]
  },
  {
   "cell_type": "code",
   "execution_count": 3,
   "id": "19cb7e7c",
   "metadata": {},
   "outputs": [],
   "source": [
    "# Abrir o dataset\n",
    "df_colesterol = pd.read_csv('./dataset/dataset_colesterol.csv')"
   ]
  },
  {
   "cell_type": "code",
   "execution_count": 9,
   "id": "12b8d6d4",
   "metadata": {},
   "outputs": [
    {
     "name": "stdout",
     "output_type": "stream",
     "text": [
      "<class 'pandas.core.frame.DataFrame'>\n",
      "RangeIndex: 1000 entries, 0 to 999\n",
      "Data columns (total 7 columns):\n",
      " #   Column                  Non-Null Count  Dtype  \n",
      "---  ------                  --------------  -----  \n",
      " 0   grupo_sanguineo         996 non-null    object \n",
      " 1   fumante                 997 non-null    object \n",
      " 2   nivel_atividade_fisica  996 non-null    object \n",
      " 3   idade                   997 non-null    float64\n",
      " 4   peso                    997 non-null    float64\n",
      " 5   altura                  997 non-null    float64\n",
      " 6   nivel_colesterol        1000 non-null   float64\n",
      "dtypes: float64(4), object(3)\n",
      "memory usage: 54.8+ KB\n"
     ]
    }
   ],
   "source": [
    "df_colesterol.info()"
   ]
  },
  {
   "cell_type": "code",
   "execution_count": null,
   "id": "409098d5",
   "metadata": {},
   "outputs": [],
   "source": [
    "# Remover do dataframe a coluna ID, pois não é útil par ao modelo de predição.\n",
    "# Executanto a linha acima, o campo \"Id\" terá sumido.\n",
    "df_colesterol.drop(columns=['Id'], axis=1, inplace=True)"
   ]
  },
  {
   "cell_type": "code",
   "execution_count": 8,
   "id": "1538e282",
   "metadata": {},
   "outputs": [],
   "source": [
    "# Normalizar o dataframe para que esteja tudo em minúscula e sem acentos.\n",
    "# Renomear as colunas.\n",
    "df_colesterol.columns = ['grupo_sanguineo',\n",
    "                         'fumante',\n",
    "                         'nivel_atividade_fisica',\n",
    "                         'idade',\n",
    "                         'peso',\n",
    "                         'altura',\n",
    "                         'nivel_colesterol']"
   ]
  },
  {
   "cell_type": "code",
   "execution_count": null,
   "id": "05a49e45",
   "metadata": {},
   "outputs": [],
   "source": [
    "# Bucketing - transformar uma varíavel númerica em uma variável categórica.\n",
    "# Copiar dataframe para o dataframe EDA.\n",
    "df_colesterol_eda = df_colesterol.copy()"
   ]
  },
  {
   "cell_type": "code",
   "execution_count": 11,
   "id": "3f39c59d",
   "metadata": {},
   "outputs": [],
   "source": [
    "# Copiar dataframe para dataframe Bucketing.\n",
    "df_colesterol_bucketing = df_colesterol.copy()"
   ]
  }
 ],
 "metadata": {
  "kernelspec": {
   "display_name": "modelo_colesterol-KtdtA_mE",
   "language": "python",
   "name": "python3"
  },
  "language_info": {
   "codemirror_mode": {
    "name": "ipython",
    "version": 3
   },
   "file_extension": ".py",
   "mimetype": "text/x-python",
   "name": "python",
   "nbconvert_exporter": "python",
   "pygments_lexer": "ipython3",
   "version": "3.12.3"
  }
 },
 "nbformat": 4,
 "nbformat_minor": 5
}
